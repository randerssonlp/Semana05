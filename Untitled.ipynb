{
 "cells": [
  {
   "cell_type": "code",
   "execution_count": null,
   "id": "5339ccae",
   "metadata": {},
   "outputs": [],
   "source": [
    "# 2.1 Estructuras decisivas (if, elif, else)\n",
    "# Problema: Dado el precio de 3 productos ingresados por el teclado\n",
    "# aplicar un descuento del 10% si la\n",
    "# venta es mayor o igual a 1000"
   ]
  },
  {
   "cell_type": "code",
   "execution_count": null,
   "id": "b03d36c2",
   "metadata": {},
   "outputs": [],
   "source": [
    "P1= float(input(\"Producto 1: \"))\n",
    "P2= float(input(\"Producto 2: \"))\n",
    "P3= float(input(\"Producto 3: \"))\n",
    "total=P1+P2+P3"
   ]
  }
 ],
 "metadata": {
  "kernelspec": {
   "display_name": "Python 3 (ipykernel)",
   "language": "python",
   "name": "python3"
  },
  "language_info": {
   "codemirror_mode": {
    "name": "ipython",
    "version": 3
   },
   "file_extension": ".py",
   "mimetype": "text/x-python",
   "name": "python",
   "nbconvert_exporter": "python",
   "pygments_lexer": "ipython3",
   "version": "3.9.12"
  }
 },
 "nbformat": 4,
 "nbformat_minor": 5
}
