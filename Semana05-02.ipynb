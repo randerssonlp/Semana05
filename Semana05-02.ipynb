{
 "cells": [
  {
   "cell_type": "code",
   "execution_count": null,
   "id": "7726f568",
   "metadata": {},
   "outputs": [],
   "source": [
    "# 2.1 Estructuras decisivas (if, elif, else)\n",
    "# Problema: Dado el precio de 3 productos ingresados por el teclado\n",
    "# aplicar un descuento del 10% si la\n",
    "# venta es mayor o igual a 1000"
   ]
  },
  {
   "cell_type": "code",
   "execution_count": 2,
   "id": "003f3418",
   "metadata": {},
   "outputs": [
    {
     "name": "stdout",
     "output_type": "stream",
     "text": [
      "Producto 1: 558\n",
      "Producto 2: 9655\n",
      "Producto 3: 1235\n",
      "El total a pagr es: 10303.2\n"
     ]
    }
   ],
   "source": [
    "P1= float(input(\"Producto 1: \"))\n",
    "P2= float(input(\"Producto 2: \"))\n",
    "P3= float(input(\"Producto 3: \"))\n",
    "total=P1+P2+P3\n",
    "if total>=1000:\n",
    "    total*=0.9\n",
    "print(f\"El total a pagr es: {total}\")"
   ]
  },
  {
   "cell_type": "code",
   "execution_count": null,
   "id": "3c182341",
   "metadata": {},
   "outputs": [],
   "source": [
    "# if-else"
   ]
  },
  {
   "cell_type": "code",
   "execution_count": 3,
   "id": "d84e3338",
   "metadata": {},
   "outputs": [
    {
     "name": "stdout",
     "output_type": "stream",
     "text": [
      "Ingrese el apellido a buscar: LOPEZ\n",
      "El apellido SÍ forma parte de la lista\n"
     ]
    }
   ],
   "source": [
    "# Problema1: (Recordando)\n",
    "# Dado una lista de estudiantes\n",
    "# Diseñar un código que muestre si el apellido de un estudiante (ingresado por teclado)\n",
    "# forma parte de la lista, tiempo: 12 minutos.\n",
    "\n",
    "estudiantes = [\"FIGUEROA\", \"GARCIA\", \"GUTIERREZ\", \"ISLA\", \"LOPEZ\", \"LUQUE\", \"MAMANI\", \"MARCANI\", \"MONDRAGON\", \"MORENO\", \"MUÑOZ\", \"NAVARRO\", \"OTAZU\", \"PASCACIO\", \"RAMON\", \"TENORIO\", \"VEGAS\"]\n",
    "\n",
    "apellido_buscar = input(\"Ingrese el apellido a buscar: \")\n",
    "\n",
    "if apellido_buscar in estudiantes:\n",
    "    print(\"El apellido SÍ forma parte de la lista\")\n",
    "else:\n",
    "    print(\"El apellido NO forma parte de la lista\")"
   ]
  },
  {
   "cell_type": "code",
   "execution_count": 1,
   "id": "adcaaadf",
   "metadata": {},
   "outputs": [
    {
     "name": "stdout",
     "output_type": "stream",
     "text": [
      "Ingrese de ventas realizadas: 1500\n",
      "Categoria B\n"
     ]
    }
   ],
   "source": [
    "# Problema 02\n",
    "# Dado el importe total de ventas realizadas por un trabajador (ingresado por teclado)\n",
    "# categorizar que tipo de empleado es, considerando la siguiente tabla:\n",
    "# Categoria: A->[0, 1000]\n",
    "# Categoria: B-><1000, 2000]\n",
    "# Categoria: C-><2000, 5000]\n",
    "# Categoria: D-><5000, Mas]\n",
    "\n",
    "# Tiempo asignado: 12 minutos.\n",
    "ventas = float(input(\"Ingrese de ventas realizadas: \"))\n",
    "if ventas<0: \n",
    "    print(\"Datos erroneos\")\n",
    "else:\n",
    "    if ventas <= 1000:\n",
    "        print(\"Categoria A\")\n",
    "    else:\n",
    "        if ventas<=2000:\n",
    "            print(\"Categoria B\")\n",
    "        else:\n",
    "            if ventas<=5000:\n",
    "                print(\"Categoria C\")\n",
    "            else:\n",
    "                print (\"Categoria D\")"
   ]
  },
  {
   "cell_type": "code",
   "execution_count": 2,
   "id": "e9a1965d",
   "metadata": {},
   "outputs": [
    {
     "name": "stdout",
     "output_type": "stream",
     "text": [
      "Ingrese el importe total de ventas: 1500\n",
      "El empleado pertenece a la categoría B.\n"
     ]
    }
   ],
   "source": [
    "# usando elif:\n",
    "# Ingresar el importe total de ventas por teclado\n",
    "importe_ventas = float(input(\"Ingrese el importe total de ventas: \"))\n",
    "\n",
    "# Categorizar al empleado en función del importe de ventas\n",
    "if importe_ventas <= 1000:\n",
    "    categoria = \"A\"\n",
    "elif importe_ventas <= 2000:\n",
    "    categoria = \"B\"\n",
    "elif importe_ventas <= 5000:\n",
    "    categoria = \"C\"\n",
    "else:\n",
    "    categoria = \"D\"\n",
    "\n",
    "# Imprimir la categoría del empleado\n",
    "print(f\"El empleado pertenece a la categoría {categoria}.\")"
   ]
  },
  {
   "cell_type": "code",
   "execution_count": 3,
   "id": "c2e5aeb4",
   "metadata": {},
   "outputs": [
    {
     "name": "stdout",
     "output_type": "stream",
     "text": [
      "0\n",
      "1\n",
      "2\n",
      "3\n",
      "4\n",
      "5\n",
      "6\n",
      "7\n",
      "8\n",
      "9\n",
      "10\n"
     ]
    }
   ],
   "source": [
    "for numero in range(11):\n",
    "    print (numero)"
   ]
  },
  {
   "cell_type": "code",
   "execution_count": 5,
   "id": "456892a2",
   "metadata": {},
   "outputs": [
    {
     "name": "stdout",
     "output_type": "stream",
     "text": [
      "5\n",
      "6\n",
      "7\n",
      "8\n",
      "9\n",
      "10\n"
     ]
    }
   ],
   "source": [
    "for numero in range(5, 11):\n",
    "    print (numero)"
   ]
  },
  {
   "cell_type": "code",
   "execution_count": 6,
   "id": "8edefe03",
   "metadata": {},
   "outputs": [
    {
     "name": "stdout",
     "output_type": "stream",
     "text": [
      "10\n",
      "12\n",
      "14\n",
      "16\n",
      "18\n",
      "20\n"
     ]
    }
   ],
   "source": [
    "for numero in range(10, 22, 2):\n",
    "    print (numero)"
   ]
  },
  {
   "cell_type": "code",
   "execution_count": 8,
   "id": "81a0c0dd",
   "metadata": {},
   "outputs": [
    {
     "name": "stdout",
     "output_type": "stream",
     "text": [
      "1\n",
      "2\n",
      "3\n",
      "4\n",
      "5\n",
      "6\n",
      "7\n",
      "8\n",
      "9\n",
      "10\n"
     ]
    }
   ],
   "source": [
    "# while\n",
    "# Permite ejecutar un conjunto de acciones mientras se cumpla un condición\n",
    "# Ejemplo\n",
    "numero=1\n",
    "fin=10\n",
    "while numero<=fin:\n",
    "    print(numero)\n",
    "    numero+=1"
   ]
  }
 ],
 "metadata": {
  "kernelspec": {
   "display_name": "Python 3 (ipykernel)",
   "language": "python",
   "name": "python3"
  },
  "language_info": {
   "codemirror_mode": {
    "name": "ipython",
    "version": 3
   },
   "file_extension": ".py",
   "mimetype": "text/x-python",
   "name": "python",
   "nbconvert_exporter": "python",
   "pygments_lexer": "ipython3",
   "version": "3.9.12"
  }
 },
 "nbformat": 4,
 "nbformat_minor": 5
}
